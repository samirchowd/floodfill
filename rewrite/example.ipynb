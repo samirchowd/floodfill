{
 "cells": [
  {
   "cell_type": "markdown",
   "metadata": {},
   "source": [
    "# Flood Fill Tutorial \n",
    "This notebook will run through an example of how to use Flood Fill and what output to expect at each part. The process is broken into three parts. \n",
    "\n",
    "<ol> \n",
    "    <li>Spike Detection<\\li>\n",
    "    <li>Waveform Clustering<\\li>\n",
    "    <li>Bayesian Optimal Template Matching <\\li>\n",
    "<\\ol>\n",
    "    \n",
    "This notebook will only cover the first two steps. At each part, the input, the process, the output, and the class structure will be defined as well as any important functions available to the user. Below is a diagram giving a visual explanation of the process"
   ]
  },
  {
   "cell_type": "markdown",
   "metadata": {},
   "source": [
    "# 1. Spike Detection"
   ]
  },
  {
   "cell_type": "code",
   "execution_count": null,
   "metadata": {},
   "outputs": [],
   "source": []
  }
 ],
 "metadata": {
  "kernelspec": {
   "display_name": "Python 3",
   "language": "python",
   "name": "python3"
  },
  "language_info": {
   "codemirror_mode": {
    "name": "ipython",
    "version": 3
   },
   "file_extension": ".py",
   "mimetype": "text/x-python",
   "name": "python",
   "nbconvert_exporter": "python",
   "pygments_lexer": "ipython3",
   "version": "3.8.5"
  }
 },
 "nbformat": 4,
 "nbformat_minor": 4
}
