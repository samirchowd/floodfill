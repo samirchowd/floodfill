{
 "cells": [
  {
   "cell_type": "code",
   "execution_count": 41,
   "metadata": {},
   "outputs": [],
   "source": [
    "%matplotlib inline  \n",
    "\n",
    "import numpy as np\n",
    "import matplotlib.pyplot as plt"
   ]
  },
  {
   "cell_type": "code",
   "execution_count": 42,
   "metadata": {},
   "outputs": [],
   "source": [
    "# Loading in data \n",
    "adj =  np.genfromtxt('Inputs/adj.csv', delimiter=',', dtype=np.int8)\n",
    "data = np.genfromtxt('Inputs/data.csv', delimiter=',')"
   ]
  },
  {
   "cell_type": "code",
   "execution_count": 45,
   "metadata": {},
   "outputs": [
    {
     "data": {
      "image/png": "[encoded data removed]",
      "text/plain": [
       "<Figure size 432x288 with 1 Axes>"
      ]
     },
     "metadata": {
      "needs_background": "light"
     },
     "output_type": "display_data"
    }
   ],
   "source": [
    "# Plotting the first channel \n",
    "plt.plot(data[:,1])\n",
    "plt.show()"
   ]
  },
  {
   "cell_type": "code",
   "execution_count": 46,
   "metadata": {},
   "outputs": [],
   "source": [
    "# Figuring out how to generate dummy data\n",
    "\n",
    "# Sinusodal data\n",
    "def gen_dummy_data():\n",
    "    # TODO: Paramterize this so it can change size, perhaps function o_O\n",
    "    return np.asarray([np.sin(np.arange(0,100,.1))]*16).transpose()\n",
    "    \n",
    "def gen_dummy_adj():\n",
    "    # TODO: No clue, this is hard coded\n",
    "    tmp = []\n",
    "    for i in range(1,16,2):\n",
    "        tmp.append([i-1, i])\n",
    "        tmp.append([i, i-1])\n",
    "    return np.asarray(tmp)\n"
   ]
  },
  {
   "cell_type": "code",
   "execution_count": 217,
   "metadata": {},
   "outputs": [],
   "source": [
    "# Generating dummy data with unique spike templates \n",
    "\n",
    "# Generating spike times \n",
    "def gen_spike_times(N, lim, numSpks, numChans):\n",
    "    np.random.seed(1738)\n",
    "    spkTimes = []\n",
    "    spkChans = []\n",
    "    for i in range(numSpks):\n",
    "        spkTimes.append(np.random.choice(range(lim), N, replace = False))\n",
    "        spkChans.append(np.random.choice(range(numChans), N, replace=True))\n",
    "    return np.asarray(spkTimes), np.asarray(spkChans)\n",
    "\n",
    "# Generating spike template\n",
    "def gen_spike_template(numSpks,muWidth=90,sigmaWidth=10, muFac=0.1, sigmaFac=0.02):\n",
    "    from scipy import signal \n",
    "    np.random.seed(1738)\n",
    "    \n",
    "    waveforms = []\n",
    "    \n",
    "    for i in range(numSpks):\n",
    "        width = sigmaWidth * np.random.randn() + muWidth \n",
    "        factor = (np.abs(sigmaFac*np.random.randn()+muFac))*width\n",
    "        polarity = np.random.choice([1,-1], 1)[0]\n",
    "        waveforms.append(polarity*signal.ricker(width, factor))\n",
    "    return np.asarray(waveforms, dtype=object)\n",
    "a = gen_spike_template(16)"
   ]
  },
  {
   "cell_type": "code",
   "execution_count": 198,
   "metadata": {},
   "outputs": [],
   "source": [
    "# Plotting of waveforms \n",
    "def plot_waveforms(wave):\n",
    "    fig, axs = plt.subplots(4,4)\n",
    "    fig.set_figheight(20)\n",
    "    fig.set_figwidth(20)\n",
    "    plt.grid=True\n",
    "    \n",
    "    # Loop variables \n",
    "    count, minY, maxY = 0, float('inf'), -float('inf') \n",
    "    \n",
    "    for i in range(4):\n",
    "        for j in range(4):\n",
    "            axs[i][j].plot(wave[count])\n",
    "            count += 1\n",
    "            minY = min(min(a[0]),minY)\n",
    "            maxY = max(max(a[0]),maxY)\n",
    "    \n",
    "    # Updating Y scale \n",
    "    for i in range(4):\n",
    "        for j in range(4):\n",
    "            axs[i][j].set_ylim((minY-1, maxY+1))\n",
    "    \n",
    "    plt.show()\n",
    "    return fig, axs"
   ]
  },
  {
   "cell_type": "code",
   "execution_count": 219,
   "metadata": {},
   "outputs": [
    {
     "data": {
      "text/plain": [
       "array([[62,  3, 20, 63, 58, 13,  1, 99, 65, 37],\n",
       "       [29, 61, 71, 49, 31, 56, 88, 79, 78, 83],\n",
       "       [41, 15, 65, 24, 66, 25, 46, 30, 14, 20],\n",
       "       [78, 36, 39, 42, 34,  1, 37, 21, 71, 96],\n",
       "       [42, 70, 31, 21, 35, 16,  3, 45, 19, 74],\n",
       "       [88, 11, 97, 95, 72, 23, 14, 75, 98, 52],\n",
       "       [54, 35, 11, 47, 37, 43, 75, 46, 14,  0],\n",
       "       [58, 61,  7, 79, 41, 20, 17, 13,  9, 50],\n",
       "       [86, 79, 92, 12, 46, 89, 81, 37, 80, 60],\n",
       "       [89, 98, 18, 32, 53, 12, 91, 74, 65, 95]])"
      ]
     },
     "execution_count": 219,
     "metadata": {},
     "output_type": "execute_result"
    }
   ],
   "source": [
    "tmp, bruh = gen_spike_times(10,100,10,16)\n",
    "tmp"
   ]
  }
 ],
 "metadata": {
  "kernelspec": {
   "display_name": "Python 3",
   "language": "python",
   "name": "python3"
  },
  "language_info": {
   "codemirror_mode": {
    "name": "ipython",
    "version": 3
   },
   "file_extension": ".py",
   "mimetype": "text/x-python",
   "name": "python",
   "nbconvert_exporter": "python",
   "pygments_lexer": "ipython3",
   "version": "3.8.5"
  }
 },
 "nbformat": 4,
 "nbformat_minor": 4
}
